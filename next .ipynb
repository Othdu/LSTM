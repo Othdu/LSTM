{
 "cells": [
  {
   "cell_type": "code",
   "execution_count": 14,
   "metadata": {},
   "outputs": [],
   "source": [
    "import torch\n",
    "import torch.nn as nn\n",
    "from torch.utils.data import DataLoader\n",
    "import numpy as np\n",
    "\n"
   ]
  },
  {
   "cell_type": "code",
   "execution_count": 15,
   "metadata": {},
   "outputs": [],
   "source": [
    "# Define input shape\n",
    "img_height, img_width = 64, 64  # Adjust based on dataset\n",
    "num_classes = 10  # Number of sign classes\n",
    "sequence_length = 5  # Number of frames per sequence"
   ]
  },
  {
   "cell_type": "code",
   "execution_count": null,
   "metadata": {},
   "outputs": [],
   "source": [
    "# CNN-LSTM Model\n",
    "class CNNLSTM(nn.Module):\n",
    "    def __init__(self):\n",
    "        super(CNNLSTM, self).__init__()\n",
    "        \n",
    "        # CNN for feature extraction\n",
    "        self.conv1 = nn.Conv2d(3, 32, kernel_size=3, padding='same')\n",
    "        self.pool1 = nn.MaxPool2d(kernel_size=2, stride=2)\n",
    "        self.conv2 = nn.Conv2d(32, 64, kernel_size=3, padding='same')\n",
    "        self.pool2 = nn.MaxPool2d(kernel_size=2, stride=2)\n",
    "        self.relu = nn.ReLU()\n",
    "        \n",
    "        # Calculate flattened features\n",
    "        self.flattened_size = 64 * (img_height // 4) * (img_width // 4)\n",
    "        \n",
    "        # LSTM for temporal processing\n",
    "        self.lstm = nn.LSTM(input_size=self.flattened_size, hidden_size=64, batch_first=True)\n",
    "        self.dropout = nn.Dropout(0.5)\n",
    "        \n",
    "        # Fully connected layer\n",
    "        self.fc1 = nn.Linear(64, 128)\n",
    "        self.fc2 = nn.Linear(128, num_classes)\n",
    "        self.softmax = nn.Softmax(dim=1)\n",
    "    \n",
    "    def forward(self, x):\n",
    "        batch_size = x.size(0)\n",
    "        \n",
    "        # Process each frame in the sequence\n",
    "        cnn_output = []\n",
    "        for t in range(sequence_length):\n",
    "            # Extract frame at time t\n",
    "            frame = x[:, t, :, :, :]  # Shape: (batch_size, 3, height, width)\n",
    "            \n",
    "            # CNN layers\n",
    "            frame = self.relu(self.conv1(frame))\n",
    "            frame = self.pool1(frame)\n",
    "            frame = self.relu(self.conv2(frame))\n",
    "            frame = self.pool2(frame)\n",
    "            \n",
    "            # Flatten\n",
    "            frame = frame.view(batch_size, -1)\n",
    "            cnn_output.append(frame)\n",
    "        \n",
    "        # Stack CNN outputs to create a sequence\n",
    "        cnn_output = torch.stack(cnn_output, dim=1)  # Shape: (batch_size, seq_len, features)\n",
    "        \n",
    "        # LSTM layer\n",
    "        lstm_out, (h_n, _) = self.lstm(cnn_output)\n",
    "        \n",
    "        # Take the output of the last LSTM cell\n",
    "        lstm_out = h_n.squeeze(0)\n",
    "        \n",
    "        # Dropout\n",
    "        lstm_out = self.dropout(lstm_out)\n",
    "        \n",
    "        # Fully connected layers\n",
    "        fc_out = self.relu(self.fc1(lstm_out))\n",
    "        fc_out = self.fc2(fc_out)\n",
    "        output = self.softmax(fc_out)\n",
    "        \n",
    "        return output\n",
    "\n"
   ]
  },
  {
   "cell_type": "code",
   "execution_count": 17,
   "metadata": {},
   "outputs": [
    {
     "name": "stdout",
     "output_type": "stream",
     "text": [
      "CNNLSTM(\n",
      "  (conv1): Conv2d(3, 32, kernel_size=(3, 3), stride=(1, 1), padding=same)\n",
      "  (pool1): MaxPool2d(kernel_size=2, stride=2, padding=0, dilation=1, ceil_mode=False)\n",
      "  (conv2): Conv2d(32, 64, kernel_size=(3, 3), stride=(1, 1), padding=same)\n",
      "  (pool2): MaxPool2d(kernel_size=2, stride=2, padding=0, dilation=1, ceil_mode=False)\n",
      "  (relu): ReLU()\n",
      "  (lstm): LSTM(16384, 64, batch_first=True)\n",
      "  (dropout): Dropout(p=0.5, inplace=False)\n",
      "  (fc1): Linear(in_features=64, out_features=128, bias=True)\n",
      "  (fc2): Linear(in_features=128, out_features=10, bias=True)\n",
      "  (softmax): Softmax(dim=1)\n",
      ")\n"
     ]
    }
   ],
   "source": [
    "# Initialize model\n",
    "model = CNNLSTM()\n",
    "\n",
    "# Print model architecture\n",
    "print(model)\n",
    "\n"
   ]
  },
  {
   "cell_type": "code",
   "execution_count": 18,
   "metadata": {},
   "outputs": [],
   "source": [
    "# compile the model\n",
    "optimizer = torch.optim.Adam(model.parameters())\n",
    "criterion = nn.CrossEntropyLoss()  "
   ]
  }
 ],
 "metadata": {
  "kernelspec": {
   "display_name": "base",
   "language": "python",
   "name": "python3"
  },
  "language_info": {
   "codemirror_mode": {
    "name": "ipython",
    "version": 3
   },
   "file_extension": ".py",
   "mimetype": "text/x-python",
   "name": "python",
   "nbconvert_exporter": "python",
   "pygments_lexer": "ipython3",
   "version": "3.10.16"
  }
 },
 "nbformat": 4,
 "nbformat_minor": 2
}
